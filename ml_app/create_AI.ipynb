{
 "cells": [
  {
   "cell_type": "code",
   "execution_count": 1,
   "id": "880798c1-5783-4a71-be25-71d9c999d969",
   "metadata": {
    "tags": []
   },
   "outputs": [
    {
     "name": "stderr",
     "output_type": "stream",
     "text": [
      "2023-04-09 14:57:08.938617: I tensorflow/core/platform/cpu_feature_guard.cc:193] This TensorFlow binary is optimized with oneAPI Deep Neural Network Library (oneDNN) to use the following CPU instructions in performance-critical operations:  AVX2 FMA\n",
      "To enable them in other operations, rebuild TensorFlow with the appropriate compiler flags.\n"
     ]
    }
   ],
   "source": [
    "import tensorflow as tf\n",
    "import numpy as np\n",
    "import matplotlib.pyplot as plt"
   ]
  },
  {
   "cell_type": "code",
   "execution_count": 17,
   "id": "63ff805a-4aa4-4ba3-93af-ba2484f02175",
   "metadata": {
    "tags": []
   },
   "outputs": [],
   "source": [
    "import tensorflow as tf\n",
    "import numpy as np\n",
    "import matplotlib.pyplot as plt"
   ]
  },
  {
   "cell_type": "code",
   "execution_count": 18,
   "id": "7d54ca89-a9a6-45d8-9963-e1d8ae7c3571",
   "metadata": {
    "tags": []
   },
   "outputs": [],
   "source": [
    "(x_train,y_train),(x_test,y_test)=tf.keras.datasets.mnist.load_data()"
   ]
  },
  {
   "cell_type": "code",
   "execution_count": 19,
   "id": "31f25284-90a7-4a68-95a4-ac31c8572ca9",
   "metadata": {
    "tags": []
   },
   "outputs": [
    {
     "data": {
      "text/plain": [
       "<matplotlib.image.AxesImage at 0x7f151e6876a0>"
      ]
     },
     "execution_count": 19,
     "metadata": {},
     "output_type": "execute_result"
    },
    {
     "data": {
      "image/png": "[encoded data removed]",
      "text/plain": [
       "<Figure size 640x480 with 1 Axes>"
      ]
     },
     "metadata": {},
     "output_type": "display_data"
    }
   ],
   "source": [
    "plt.imshow(1-x_train[0]/255)"
   ]
  },
  {
   "cell_type": "code",
   "execution_count": 22,
   "id": "ab99ec03-2011-4bc7-8129-2335d3f318dc",
   "metadata": {
    "tags": []
   },
   "outputs": [],
   "source": [
    "model=tf.keras.Sequential([\n",
    "    tf.keras.layers.Rescaling(1/255,input_shape=(28,28)),\n",
    "    tf.keras.layers.Lambda(lambda x:1-x),\n",
    "    tf.keras.layers.Flatten(),\n",
    "    tf.keras.layers.Dense(256,activation='relu'),\n",
    "    tf.keras.layers.Dense(256,activation='relu'),\n",
    "    tf.keras.layers.Dense(10,activation='softmax')\n",
    "])\n",
    "model.compile(loss='SparseCategoricalCrossentropy',optimizer='adam',metrics=['accuracy'])"
   ]
  },
  {
   "cell_type": "code",
   "execution_count": 23,
   "id": "655f019c-41e4-4e7b-b152-48503f136c14",
   "metadata": {
    "tags": []
   },
   "outputs": [
    {
     "name": "stdout",
     "output_type": "stream",
     "text": [
      "Model: \"sequential_2\"\n",
      "_________________________________________________________________\n",
      " Layer (type)                Output Shape              Param #   \n",
      "=================================================================\n",
      " rescaling_2 (Rescaling)     (None, 28, 28)            0         \n",
      "                                                                 \n",
      " lambda_2 (Lambda)           (None, 28, 28)            0         \n",
      "                                                                 \n",
      " flatten_2 (Flatten)         (None, 784)               0         \n",
      "                                                                 \n",
      " dense_6 (Dense)             (None, 256)               200960    \n",
      "                                                                 \n",
      " dense_7 (Dense)             (None, 256)               65792     \n",
      "                                                                 \n",
      " dense_8 (Dense)             (None, 10)                2570      \n",
      "                                                                 \n",
      "=================================================================\n",
      "Total params: 269,322\n",
      "Trainable params: 269,322\n",
      "Non-trainable params: 0\n",
      "_________________________________________________________________\n"
     ]
    }
   ],
   "source": [
    "model.summary()"
   ]
  },
  {
   "cell_type": "code",
   "execution_count": 24,
   "id": "ab132fff-872d-4186-a1c2-ea65dd436847",
   "metadata": {
    "tags": []
   },
   "outputs": [
    {
     "name": "stdout",
     "output_type": "stream",
     "text": [
      "Epoch 1/100\n",
      "1875/1875 [==============================] - 27s 13ms/step - loss: 0.4473 - accuracy: 0.8589 - val_loss: 0.2461 - val_accuracy: 0.9218\n",
      "Epoch 2/100\n",
      "1875/1875 [==============================] - 23s 12ms/step - loss: 0.2420 - accuracy: 0.9232 - val_loss: 0.1808 - val_accuracy: 0.9434\n",
      "Epoch 3/100\n",
      "1875/1875 [==============================] - 22s 12ms/step - loss: 0.1881 - accuracy: 0.9411 - val_loss: 0.1455 - val_accuracy: 0.9528\n",
      "Epoch 4/100\n",
      "1875/1875 [==============================] - 24s 13ms/step - loss: 0.1618 - accuracy: 0.9486 - val_loss: 0.1337 - val_accuracy: 0.9566\n",
      "Epoch 5/100\n",
      "1875/1875 [==============================] - 24s 13ms/step - loss: 0.1377 - accuracy: 0.9567 - val_loss: 0.1565 - val_accuracy: 0.9527\n",
      "Epoch 6/100\n",
      "1875/1875 [==============================] - 22s 12ms/step - loss: 0.1302 - accuracy: 0.9588 - val_loss: 0.1444 - val_accuracy: 0.9532\n",
      "Epoch 7/100\n",
      "1875/1875 [==============================] - 23s 12ms/step - loss: 0.1166 - accuracy: 0.9625 - val_loss: 0.1674 - val_accuracy: 0.9507\n",
      "Epoch 8/100\n",
      "1875/1875 [==============================] - 23s 12ms/step - loss: 0.1060 - accuracy: 0.9669 - val_loss: 0.1131 - val_accuracy: 0.9645\n",
      "Epoch 9/100\n",
      "1875/1875 [==============================] - 23s 12ms/step - loss: 0.1005 - accuracy: 0.9686 - val_loss: 0.1212 - val_accuracy: 0.9612\n",
      "Epoch 10/100\n",
      "1875/1875 [==============================] - 23s 13ms/step - loss: 0.0933 - accuracy: 0.9701 - val_loss: 0.1018 - val_accuracy: 0.9682\n",
      "Epoch 11/100\n",
      "1875/1875 [==============================] - 23s 12ms/step - loss: 0.0893 - accuracy: 0.9713 - val_loss: 0.1334 - val_accuracy: 0.9600\n",
      "Epoch 12/100\n",
      "1875/1875 [==============================] - 24s 13ms/step - loss: 0.0832 - accuracy: 0.9737 - val_loss: 0.1196 - val_accuracy: 0.9665\n",
      "Epoch 13/100\n",
      "1875/1875 [==============================] - 22s 12ms/step - loss: 0.0793 - accuracy: 0.9740 - val_loss: 0.1010 - val_accuracy: 0.9724\n",
      "Epoch 14/100\n",
      "1875/1875 [==============================] - 23s 12ms/step - loss: 0.0775 - accuracy: 0.9751 - val_loss: 0.1024 - val_accuracy: 0.9710\n",
      "Epoch 15/100\n",
      "1875/1875 [==============================] - 23s 12ms/step - loss: 0.0723 - accuracy: 0.9767 - val_loss: 0.0965 - val_accuracy: 0.9720\n",
      "Epoch 16/100\n",
      "1875/1875 [==============================] - 23s 12ms/step - loss: 0.0696 - accuracy: 0.9781 - val_loss: 0.1245 - val_accuracy: 0.9657\n",
      "Epoch 17/100\n",
      "1875/1875 [==============================] - 25s 13ms/step - loss: 0.0672 - accuracy: 0.9780 - val_loss: 0.1323 - val_accuracy: 0.9649\n",
      "Epoch 18/100\n",
      "1875/1875 [==============================] - 23s 12ms/step - loss: 0.0655 - accuracy: 0.9791 - val_loss: 0.1191 - val_accuracy: 0.9690\n"
     ]
    },
    {
     "data": {
      "text/plain": [
       "<keras.callbacks.History at 0x7f1518520df0>"
      ]
     },
     "execution_count": 24,
     "metadata": {},
     "output_type": "execute_result"
    }
   ],
   "source": [
    "cbck=tf.keras.callbacks.EarlyStopping(monitor='val_accuracy',mode='max',patience=5,restore_best_weights=True)\n",
    "model.fit(x_train,y_train,epochs=100,validation_data=(x_test,y_test),callbacks=[cbck])"
   ]
  },
  {
   "cell_type": "code",
   "execution_count": 25,
   "id": "a8fb0d0d-40b7-4cfa-893d-184f5d9875a5",
   "metadata": {
    "tags": []
   },
   "outputs": [
    {
     "name": "stderr",
     "output_type": "stream",
     "text": [
      "WARNING:absl:Found untraced functions such as _update_step_xla while saving (showing 1 of 1). These functions will not be directly callable after loading.\n"
     ]
    },
    {
     "name": "stdout",
     "output_type": "stream",
     "text": [
      "INFO:tensorflow:Assets written to: digit_AI_Inverse/1/assets\n"
     ]
    },
    {
     "name": "stderr",
     "output_type": "stream",
     "text": [
      "INFO:tensorflow:Assets written to: digit_AI_Inverse/1/assets\n"
     ]
    }
   ],
   "source": [
    "model.save('digit_AI_Inverse/1/')"
   ]
  },
  {
   "cell_type": "code",
   "execution_count": 29,
   "id": "25f4a821-c5ec-4b82-a5a6-fa6890dfda8f",
   "metadata": {
    "tags": []
   },
   "outputs": [],
   "source": [
    "model=tf.keras.models.load_model('digit_AI')\n",
    "model.add(tf.keras.layers.Lambda(lambda x:tf.argmax(x,1)))"
   ]
  },
  {
   "cell_type": "code",
   "execution_count": 30,
   "id": "4248d920-04d8-485a-a9ba-c1ebd06343de",
   "metadata": {},
   "outputs": [
    {
     "name": "stdout",
     "output_type": "stream",
     "text": [
      "tf.Tensor([7 2 1 0 4 1], shape=(6,), dtype=int64)\n"
     ]
    },
    {
     "data": {
      "text/plain": [
       "array([7, 2, 1, 0, 4, 1], dtype=uint8)"
      ]
     },
     "execution_count": 30,
     "metadata": {},
     "output_type": "execute_result"
    }
   ],
   "source": [
    "print(model(x_test[:6]))\n",
    "y_test[:6]"
   ]
  },
  {
   "cell_type": "code",
   "execution_count": 31,
   "id": "2b1267e2-75f1-4e20-86e1-7ac0ce57d9dd",
   "metadata": {
    "tags": []
   },
   "outputs": [
    {
     "name": "stderr",
     "output_type": "stream",
     "text": [
      "WARNING:absl:Found untraced functions such as _update_step_xla while saving (showing 1 of 1). These functions will not be directly callable after loading.\n"
     ]
    },
    {
     "name": "stdout",
     "output_type": "stream",
     "text": [
      "INFO:tensorflow:Assets written to: digit_AI_argmax/1/assets\n"
     ]
    },
    {
     "name": "stderr",
     "output_type": "stream",
     "text": [
      "INFO:tensorflow:Assets written to: digit_AI_argmax/1/assets\n"
     ]
    }
   ],
   "source": [
    "model.save('digit_AI_argmax/1')"
   ]
  },
  {
   "cell_type": "code",
   "execution_count": 32,
   "id": "5bfdb386-8057-4523-ad71-83e50720f63f",
   "metadata": {
    "tags": []
   },
   "outputs": [
    {
     "name": "stdout",
     "output_type": "stream",
     "text": [
      "tf.Tensor([7 2 1 0 4 1], shape=(6,), dtype=int64)\n"
     ]
    },
    {
     "name": "stderr",
     "output_type": "stream",
     "text": [
      "WARNING:absl:Found untraced functions such as _update_step_xla while saving (showing 1 of 1). These functions will not be directly callable after loading.\n"
     ]
    },
    {
     "name": "stdout",
     "output_type": "stream",
     "text": [
      "INFO:tensorflow:Assets written to: digit_AI_argmax_inherit/1/assets\n"
     ]
    },
    {
     "name": "stderr",
     "output_type": "stream",
     "text": [
      "INFO:tensorflow:Assets written to: digit_AI_argmax_inherit/1/assets\n"
     ]
    }
   ],
   "source": [
    "base_model=tf.keras.models.load_model('digit_AI')\n",
    "class MyModel(tf.keras.Model):\n",
    "    def __init__(self):\n",
    "        super(MyModel,self).__init__()\n",
    "        self.base=base_model\n",
    "    def call(self,data):\n",
    "        return tf.argmax(self.base(data),1)\n",
    "digit_ai_argmax_inherit=MyModel()\n",
    "print(digit_ai_argmax_inherit(x_test[:6]))\n",
    "digit_ai_argmax_inherit.save('digit_AI_argmax_inherit/1')"
   ]
  }
 ],
 "metadata": {
  "kernelspec": {
   "display_name": "Python 3 (ipykernel)",
   "language": "python",
   "name": "python3"
  },
  "language_info": {
   "codemirror_mode": {
    "name": "ipython",
    "version": 3
   },
   "file_extension": ".py",
   "mimetype": "text/x-python",
   "name": "python",
   "nbconvert_exporter": "python",
   "pygments_lexer": "ipython3",
   "version": "3.8.10"
  }
 },
 "nbformat": 4,
 "nbformat_minor": 5
}
